{
 "cells": [
  {
   "cell_type": "markdown",
   "metadata": {},
   "source": [
    "<u1><h1>Mobile App Profiles for the App Store (IOS) and Google Play Store (Android)</h1></u1>\n",
    "\n",
    "<h2>Introduction</h2>\n",
    "<p>Here, we have datasets that consists of mobile apps that are in the App Store and Google Play Store that contain important information regarding each app (i.e. Rating, Category, Description, Number Of Downloads etc...)</p>\n",
    "\n",
    "<h2> Goal of analysis </h2>\n",
    "<p>The goal of our analysis is to deduce what is the driving force behind the success of certain mobile apps for both mobile markets and how we can replicate their success. The pandas package will not be used as we would like to use more fundamental ways of analysing the dataset to see other methods of analysis.</p>\n",
    "\n",
    "<h2> Data Collection </h2>\n",
    "<p>The data will be from Kaggle from the following repositories:\n",
    "<ul>\n",
    "  <li>About 10,0000 Android apps on the Google Play store: <a href=\"https://www.kaggle.com/lava18/google-play-store-apps/home\">Dataset</a>\n",
    "</li>\n",
    "  <li>About 7,000 IOS apps from the App store: <a href=\"https://www.kaggle.com/ramamet4/app-store-apple-data-set-10k-apps/home\">Dataset</a>\n",
    "</li>\n",
    "</ul></p>\n",
    "\n",
    "<h2>Importing Data</h2>"
   ]
  },
  {
   "cell_type": "code",
   "execution_count": 2,
   "metadata": {
    "collapsed": false
   },
   "outputs": [],
   "source": [
    "# import statements\n",
    "from csv import reader\n",
    "\n",
    "# retrieve datasets\n",
    "def retrieve_data(dataset, header):\n",
    "    open_file = open(dataset, encoding = \"utf8\")\n",
    "    read_file = reader(open_file)\n",
    "    list_data = list(read_file)\n",
    "    \n",
    "    # return header seperately if available\n",
    "    if (header):\n",
    "        return list_data[0], list_data[1:]\n",
    "        \n",
    "    return list_data\n",
    "\n",
    "# convert the dataset csv files into list of lists, including header\n",
    "android_header, android_apps = retrieve_data('googleplaystore.csv', True)\n",
    "ios_header, ios_apps = retrieve_data('AppleStore.csv', True)"
   ]
  },
  {
   "cell_type": "markdown",
   "metadata": {},
   "source": [
    "<h2> Exploring the dataset </h2>\n",
    "<p>Before we get too exited, let's go through and explore what variables we are working with by printing the first 3 rows of both datasets and also include the header to clarify what each column is represents.</p>"
   ]
  },
  {
   "cell_type": "code",
   "execution_count": 7,
   "metadata": {
    "collapsed": false
   },
   "outputs": [
    {
     "name": "stdout",
     "output_type": "stream",
     "text": [
      "-----Android data (Header)-----\n",
      "['App', 'Category', 'Rating', 'Reviews', 'Size', 'Installs', 'Type', 'Price', 'Content Rating', 'Genres', 'Last Updated', 'Current Ver', 'Android Ver'] \n",
      "\n",
      "-----Android data (Dimensions)-----\n",
      "Number of rows: 10841 \n",
      "Number of columns: 13 \n",
      "\n",
      "-----Android data (First 3 rows)-----\n",
      "['Coloring book moana', 'ART_AND_DESIGN', '3.9', '967', '14M', '500,000+', 'Free', '0', 'Everyone', 'Art & Design;Pretend Play', 'January 15, 2018', '2.0.0', '4.0.3 and up'] \n",
      "\n",
      "['U Launcher Lite – FREE Live Cool Themes, Hide Apps', 'ART_AND_DESIGN', '4.7', '87510', '8.7M', '5,000,000+', 'Free', '0', 'Everyone', 'Art & Design', 'August 1, 2018', '1.2.4', '4.0.3 and up'] \n",
      "\n",
      "['Sketch - Draw & Paint', 'ART_AND_DESIGN', '4.5', '215644', '25M', '50,000,000+', 'Free', '0', 'Teen', 'Art & Design', 'June 8, 2018', 'Varies with device', '4.2 and up'] \n",
      "\n",
      "-----IOS data (Header)-----\n",
      "['id', 'track_name', 'size_bytes', 'currency', 'price', 'rating_count_tot', 'rating_count_ver', 'user_rating', 'user_rating_ver', 'ver', 'cont_rating', 'prime_genre', 'sup_devices.num', 'ipadSc_urls.num', 'lang.num', 'vpp_lic'] \n",
      "\n",
      "-----IOS data (Dimensions)-----\n",
      "Number of rows: 7197 \n",
      "Number of columns: 16 \n",
      "\n",
      "-----IOS data (First 3 rows)-----\n",
      "['389801252', 'Instagram', '113954816', 'USD', '0.0', '2161558', '1289', '4.5', '4.0', '10.23', '12+', 'Photo & Video', '37', '0', '29', '1'] \n",
      "\n",
      "['529479190', 'Clash of Clans', '116476928', 'USD', '0.0', '2130805', '579', '4.5', '4.5', '9.24.12', '9+', 'Games', '38', '5', '18', '1'] \n",
      "\n",
      "['420009108', 'Temple Run', '65921024', 'USD', '0.0', '1724546', '3842', '4.5', '4.0', '1.6.2', '9+', 'Games', '40', '5', '1', '1'] \n",
      "\n"
     ]
    }
   ],
   "source": [
    "# print n rows of the dataset\n",
    "def print_data(dataset, start_row, end_row):\n",
    "    subset = dataset[start_row:end_row+1]\n",
    "    for row in subset:\n",
    "        print(row, '\\n')\n",
    "        \n",
    "# get the number of rows and columns of the dataset\n",
    "def dimensions(dataset, header):\n",
    "    return len(dataset), len(header)\n",
    "\n",
    "# explore android dataset\n",
    "print(\"-----Android data (Header)-----\")\n",
    "print(android_header, '\\n')\n",
    "\n",
    "print(\"-----Android data (Dimensions)-----\")\n",
    "rows, cols = dimensions(android_apps, android_header)\n",
    "print(\"Number of rows:\", rows, \n",
    "      \"\\nNumber of columns:\", cols, \n",
    "      \"\\n\")\n",
    "\n",
    "print(\"-----Android data (First 3 rows)-----\")\n",
    "print_data(android_apps,1,3)\n",
    "\n",
    "# explore ios dataset\n",
    "print(\"-----IOS data (Header)-----\")\n",
    "print(ios_header, '\\n')\n",
    "\n",
    "print(\"-----IOS data (Dimensions)-----\")\n",
    "rows, cols = dimensions(ios_apps, ios_header)\n",
    "print(\"Number of rows:\", rows, \n",
    "      \"\\nNumber of columns:\", cols, \n",
    "      \"\\n\")\n",
    "\n",
    "print(\"-----IOS data (First 3 rows)-----\")\n",
    "print_data(ios_apps,1,3)"
   ]
  },
  {
   "cell_type": "markdown",
   "metadata": {
    "collapsed": true
   },
   "source": [
    "<b>Comment:</b> Here, we see the Android dataset has the following 13 variables as the columns: 'App', 'Category', 'Rating', 'Reviews', 'Size', 'Installs', 'Type', 'Price', 'Content Rating', 'Genres', 'Last Updated', 'Current Ver', 'Android Ver' and it cotains 10841 rows of android app data.\n",
    "\n",
    "Furthermore, the IOS dataset contains 16 variables which consists of: 'id', 'track_name', 'size_bytes', 'currency', 'price', 'rating_count_tot', 'rating_count_ver', 'user_rating', 'user_rating_ver', 'ver', 'cont_rating', 'prime_genre', 'sup_devices.num', 'ipadSc_urls.num', 'lang.num', 'vpp_lic' and it contains 7197 rows of ios app data."
   ]
  },
  {
   "cell_type": "code",
   "execution_count": null,
   "metadata": {
    "collapsed": true
   },
   "outputs": [],
   "source": []
  }
 ],
 "metadata": {
  "kernelspec": {
   "display_name": "Python 3",
   "language": "python",
   "name": "python3"
  },
  "language_info": {
   "codemirror_mode": {
    "name": "ipython",
    "version": 3
   },
   "file_extension": ".py",
   "mimetype": "text/x-python",
   "name": "python",
   "nbconvert_exporter": "python",
   "pygments_lexer": "ipython3",
   "version": "3.4.3"
  }
 },
 "nbformat": 4,
 "nbformat_minor": 2
}
