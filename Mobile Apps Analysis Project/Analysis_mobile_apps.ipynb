{
 "cells": [
  {
   "cell_type": "markdown",
   "metadata": {},
   "source": [
    "<u1><h1>Analysing successful free apps in the App Store and Google Play Store</h1></u1>\n",
    "\n",
    "<h2>Introduction</h2>\n",
    "<p>Today we have datasets that consists of mobile apps that are in the App Store and Google Play Store that contain important information regarding each app (i.e. Rating, Category, Description, Number Of Downloads, User Rating etc...)</p>\n",
    "\n",
    "<h2> Goal of analysis </h2>\n",
    "<p>The goal of our analysis is to deduce what is the driving force behind the success of free mobile apps for both mobile markets and how we can replicate their success. So, in order to measure the idea of success, we can use the number installs of each app in order to quantify ones success and if that is not available then we will use the user rating for each app. Here, we will use some old school methods to perform our analysis to mix it up abit and this will be done by omitting the use of packages such as pandas and matplotlib and relying on textual output.</p>\n",
    "\n",
    "<h2> Data Collection </h2>\n",
    "<p>The data will be from Kaggle from the following repositories:\n",
    "<ul>\n",
    "  <li>About 10,0000 Android apps on the Google Play store: <a href=\"https://www.kaggle.com/lava18/google-play-store-apps/home\">Dataset</a>\n",
    "</li>\n",
    "  <li>About 7,000 IOS apps from the App store: <a href=\"https://www.kaggle.com/ramamet4/app-store-apple-data-set-10k-apps/home\">Dataset</a>\n",
    "</li>\n",
    "</ul></p>\n",
    "\n",
    "<h2>Importing Data</h2>"
   ]
  },
  {
   "cell_type": "code",
   "execution_count": 54,
   "metadata": {
    "collapsed": false
   },
   "outputs": [],
   "source": [
    "# import statements\n",
    "from csv import reader\n",
    "\n",
    "# retrieve datasets\n",
    "def retrieve_data(dataset, header):\n",
    "    open_file = open(dataset, encoding = \"utf8\")\n",
    "    read_file = reader(open_file)\n",
    "    list_data = list(read_file)\n",
    "    \n",
    "    # return header seperately if available\n",
    "    if (header):\n",
    "        return list_data[0], list_data[1:]\n",
    "        \n",
    "    return list_data\n",
    "\n",
    "# convert the dataset csv files into list of lists, including header\n",
    "android_header, android_apps = retrieve_data('googleplaystore.csv', True)\n",
    "ios_header, ios_apps = retrieve_data('AppleStore.csv', True)"
   ]
  },
  {
   "cell_type": "markdown",
   "metadata": {},
   "source": [
    "<h2> Exploring the dataset </h2>\n",
    "<p>Before we get too exited, let's go through and explore what variables we are working with by printing the first 3 rows of both datasets and also include the header to clarify what each column represents.</p>"
   ]
  },
  {
   "cell_type": "code",
   "execution_count": 55,
   "metadata": {
    "collapsed": false
   },
   "outputs": [
    {
     "name": "stdout",
     "output_type": "stream",
     "text": [
      "-----Android data (Header)-----\n",
      "['App', 'Category', 'Rating', 'Reviews', 'Size', 'Installs', 'Type', 'Price', 'Content Rating', 'Genres', 'Last Updated', 'Current Ver', 'Android Ver'] \n",
      "\n",
      "-----Android data (Dimensions)-----\n",
      "Number of rows: 10841 \n",
      "Number of columns: 13 \n",
      "\n",
      "-----Android data (First 3 rows)-----\n",
      "['Coloring book moana', 'ART_AND_DESIGN', '3.9', '967', '14M', '500,000+', 'Free', '0', 'Everyone', 'Art & Design;Pretend Play', 'January 15, 2018', '2.0.0', '4.0.3 and up'] \n",
      "\n",
      "['U Launcher Lite – FREE Live Cool Themes, Hide Apps', 'ART_AND_DESIGN', '4.7', '87510', '8.7M', '5,000,000+', 'Free', '0', 'Everyone', 'Art & Design', 'August 1, 2018', '1.2.4', '4.0.3 and up'] \n",
      "\n",
      "['Sketch - Draw & Paint', 'ART_AND_DESIGN', '4.5', '215644', '25M', '50,000,000+', 'Free', '0', 'Teen', 'Art & Design', 'June 8, 2018', 'Varies with device', '4.2 and up'] \n",
      "\n",
      "-----IOS data (Header)-----\n",
      "['id', 'track_name', 'size_bytes', 'currency', 'price', 'rating_count_tot', 'rating_count_ver', 'user_rating', 'user_rating_ver', 'ver', 'cont_rating', 'prime_genre', 'sup_devices.num', 'ipadSc_urls.num', 'lang.num', 'vpp_lic'] \n",
      "\n",
      "-----IOS data (Dimensions)-----\n",
      "Number of rows: 7197 \n",
      "Number of columns: 16 \n",
      "\n",
      "-----IOS data (First 3 rows)-----\n",
      "['389801252', 'Instagram', '113954816', 'USD', '0.0', '2161558', '1289', '4.5', '4.0', '10.23', '12+', 'Photo & Video', '37', '0', '29', '1'] \n",
      "\n",
      "['529479190', 'Clash of Clans', '116476928', 'USD', '0.0', '2130805', '579', '4.5', '4.5', '9.24.12', '9+', 'Games', '38', '5', '18', '1'] \n",
      "\n",
      "['420009108', 'Temple Run', '65921024', 'USD', '0.0', '1724546', '3842', '4.5', '4.0', '1.6.2', '9+', 'Games', '40', '5', '1', '1'] \n",
      "\n"
     ]
    }
   ],
   "source": [
    "# print n rows of the dataset\n",
    "def print_data(dataset, start_row, end_row):\n",
    "    subset = dataset[start_row:end_row+1]\n",
    "    for row in subset:\n",
    "        print(row, '\\n')\n",
    "        \n",
    "# get the number of rows and columns of the dataset\n",
    "def dimensions(dataset, header):\n",
    "    return len(dataset), len(header)\n",
    "\n",
    "# explore android dataset\n",
    "print(\"-----Android data (Header)-----\")\n",
    "print(android_header, '\\n')\n",
    "\n",
    "print(\"-----Android data (Dimensions)-----\")\n",
    "rows, cols = dimensions(android_apps, android_header)\n",
    "print(\"Number of rows:\", rows, \n",
    "      \"\\nNumber of columns:\", cols, \n",
    "      \"\\n\")\n",
    "\n",
    "print(\"-----Android data (First 3 rows)-----\")\n",
    "print_data(android_apps,1,3)\n",
    "\n",
    "# explore ios dataset\n",
    "print(\"-----IOS data (Header)-----\")\n",
    "print(ios_header, '\\n')\n",
    "\n",
    "print(\"-----IOS data (Dimensions)-----\")\n",
    "rows, cols = dimensions(ios_apps, ios_header)\n",
    "print(\"Number of rows:\", rows, \n",
    "      \"\\nNumber of columns:\", cols, \n",
    "      \"\\n\")\n",
    "\n",
    "print(\"-----IOS data (First 3 rows)-----\")\n",
    "print_data(ios_apps,1,3)"
   ]
  },
  {
   "cell_type": "markdown",
   "metadata": {
    "collapsed": true
   },
   "source": [
    "<b>Comment:</b> Here, we see the Android dataset has the following 13 variables as the columns: 'App', 'Category', 'Rating', 'Reviews', 'Size', 'Installs', 'Type', 'Price', 'Content Rating', 'Genres', 'Last Updated', 'Current Ver', 'Android Ver' and it cotains 10841 rows of android app data.\n",
    "\n",
    "Furthermore, the IOS dataset contains 16 variables which consists of: 'id', 'track_name', 'size_bytes', 'currency', 'price', 'rating_count_tot', 'rating_count_ver', 'user_rating', 'user_rating_ver', 'ver', 'cont_rating', 'prime_genre', 'sup_devices.num', 'ipadSc_urls.num', 'lang.num', 'vpp_lic' and it contains 7197 rows of ios app data.\n",
    "\n",
    "<h2> Data Wrangling </h2>\n",
    "Here, we will have to convert the datasets into more suitable data in order to proceed with our analysis. This may include detecting and removing duplicates, non english apps (for simplicity) and/or incorrect data for each app.\n",
    "\n",
    "First, let's make sure that each row of mobile data actually has the same amount of data values that matches the number of columns, for the Android one this will be 13 columns and IOS one has 16 columns."
   ]
  },
  {
   "cell_type": "code",
   "execution_count": 56,
   "metadata": {
    "collapsed": false
   },
   "outputs": [
    {
     "name": "stdout",
     "output_type": "stream",
     "text": [
      "-----Android dataset with missing data in the rows-----\n",
      "Row Index: 10472\n",
      "['Life Made WI-Fi Touchscreen Photo Frame', '1.9', '19', '3.0M', '1,000+', 'Free', '0', 'Everyone', '', 'February 11, 2018', '1.0.19', '4.0 and up']\n",
      "\n",
      "-----IOS dataset with missing data in the rows-----\n"
     ]
    }
   ],
   "source": [
    "# check each for of data to check if there is any row that \n",
    "# has data values less than the number of columns\n",
    "\n",
    "# Android Dataset\n",
    "print(\"-----Android dataset with missing data in the rows-----\")\n",
    "n_index = 0\n",
    "for row in android_apps:\n",
    "    if (len(row) != len(android_header)):\n",
    "        print(\"Row Index:\", n_index)\n",
    "        print(row)          \n",
    "    n_index += 1\n",
    "        \n",
    "# IOS Dataset\n",
    "print(\"\\n-----IOS dataset with missing data in the rows-----\")\n",
    "n_index = 0\n",
    "for row in ios_apps:\n",
    "    if (len(row) != len(ios_header)):\n",
    "        print(row)\n",
    "        "
   ]
  },
  {
   "cell_type": "markdown",
   "metadata": {},
   "source": [
    "<b>Comment:</b> Here, we see that the only row is that has missing values is in the Android Dataset and it is located in the 10472th row. After a closer examination it seems that the Category column is missing (should be the second element) here we can insert the category column manually from its <a href=\"https://play.google.com/store/apps/details?id=com.lifemade.internetPhotoframe&hl=en_AU\">Google Play app</a> (it shows that it is listed under the 'Lifestyle' category)."
   ]
  },
  {
   "cell_type": "code",
   "execution_count": 57,
   "metadata": {
    "collapsed": false
   },
   "outputs": [
    {
     "name": "stdout",
     "output_type": "stream",
     "text": [
      "Check the Android 10472th row for the updated value\n",
      "['Life Made WI-Fi Touchscreen Photo Frame', 'Lifestyle', '19', '3.0M', '1,000+', 'Free', '0', 'Everyone', '', 'February 11, 2018', '1.0.19', '4.0 and up'] \n",
      "\n"
     ]
    }
   ],
   "source": [
    "# insert the Category value for the row with the missing value (manually)\n",
    "# it is located in the 10472th row and it is the second element\n",
    "android_apps[10472][1] = 'Lifestyle'\n",
    "print(\"Check the Android 10472th row for the updated value\")\n",
    "print_data(android_apps,10472,10472)"
   ]
  },
  {
   "cell_type": "markdown",
   "metadata": {},
   "source": [
    "Now, we should focus on locating any duplicates and removing them from either of the datasets. We can do this by checking if any rows have the exact same app name as we assume that each app should be unique in order to be in the respective app store anyway. Also, we must consider which rows to delete as they may have other data that is different, such as other rows of data may have updated metrics (i.e. Updated number of reviews on the app) and it would be wise to use the most recent metrics for more accuracy. Furthermore, we can sort the datasets so that it is in alphabetical order based on the apps name."
   ]
  },
  {
   "cell_type": "code",
   "execution_count": 58,
   "metadata": {
    "collapsed": false
   },
   "outputs": [
    {
     "name": "stdout",
     "output_type": "stream",
     "text": [
      "----------\n",
      "Number of Android app duplicates removed: 1181\n",
      "Number of free Android apps: 8902\n",
      "----------\n",
      "Number of IOS app duplicates removed: 2\n",
      "Number of free IOS apps: 4054\n",
      "----------\n"
     ]
    }
   ],
   "source": [
    "print(\"----------\")\n",
    "# ANDROID DATASET\n",
    "# sort the datasets based on the apps name, number of reviews \n",
    "# x[0] is app name (ascending order) and x[3] is number of reviews (descending)\n",
    "android_apps.sort(key = lambda x: x[0])\n",
    "android_apps.sort(key = lambda x: x[3], reverse = True)\n",
    "\n",
    "# check duplicates in Android dataset\n",
    "unique_android_apps = []\n",
    "unique_apps = []\n",
    "duplicates_removed = 0\n",
    "index = 0\n",
    "for row in android_apps:\n",
    "    app_name = row[0]\n",
    "    if (app_name not in unique_apps):\n",
    "        unique_apps.append(app_name)\n",
    "        unique_android_apps.append(row)\n",
    "    else:\n",
    "        duplicates_removed += 1\n",
    "    index += 1\n",
    "print(\"Number of Android app duplicates removed:\", duplicates_removed)\n",
    "\n",
    "# remove all paid Android apps\n",
    "free_android_apps = []\n",
    "for row in unique_android_apps:\n",
    "    if (row[6] == 'Free'):\n",
    "        free_android_apps.append(row)\n",
    "print(\"Number of free Android apps:\", len(free_android_apps))\n",
    "\n",
    "print(\"----------\")\n",
    "# IOS DATASET\n",
    "# x[1] is app name (ascending order) and x[5] is number of reviews (descending)\n",
    "ios_apps.sort(key = lambda x: x[1])\n",
    "ios_apps.sort(key = lambda x: x[5], reverse = True)\n",
    "\n",
    "# check duplicates in IOS dataset\n",
    "unique_ios_apps = []\n",
    "unique_apps = []\n",
    "duplicates_removed = 0\n",
    "index = 0\n",
    "for row in ios_apps:\n",
    "    app_name = row[1]\n",
    "    if (app_name not in unique_apps):\n",
    "        unique_apps.append(app_name)\n",
    "        unique_ios_apps.append(row)\n",
    "    else:\n",
    "        duplicates_removed += 1\n",
    "print(\"Number of IOS app duplicates removed:\", duplicates_removed)\n",
    "\n",
    "# remove all paid IOS apps \n",
    "free_ios_apps = []\n",
    "for row in unique_ios_apps:\n",
    "    if (float(row[4]) == 0.0):\n",
    "        free_ios_apps.append(row)\n",
    "print(\"Number of free IOS apps:\", len(free_ios_apps))\n",
    "print(\"----------\")"
   ]
  },
  {
   "cell_type": "markdown",
   "metadata": {},
   "source": [
    "<b>Comment:</b> So, we can see using our criterion for duplicate removal, it is clear that the Android dataset contains more duplicates (1181) and were removed. On the other hand, we see that there were only two duplicates present in the IOS app and were then also removed. Additionally, there is 8902 free apps on the Google Play store whereas there are only 4054 free apps in the App Store in these datasets. Now, we have unique sets for both, we can begin analyse the cleansed datasets in detail.\n",
    "\n",
    "<h2>Data Analysis</h2>\n",
    "<p>So, we have added values to any missing data rows and located and removed the appropriate duplicates for both datasets. Now, we can decide which columns will contribute to the driving force in the success of an app, let's start with the android dataset. It's columns are:</p>"
   ]
  },
  {
   "cell_type": "code",
   "execution_count": 59,
   "metadata": {
    "collapsed": false
   },
   "outputs": [
    {
     "name": "stdout",
     "output_type": "stream",
     "text": [
      "['App', 'Category', 'Rating', 'Reviews', 'Size', 'Installs', 'Type', 'Price', 'Content Rating', 'Genres', 'Last Updated', 'Current Ver', 'Android Ver']\n"
     ]
    }
   ],
   "source": [
    "print(android_header)"
   ]
  },
  {
   "cell_type": "markdown",
   "metadata": {},
   "source": [
    "<p>Here, we would like to analyse the following variables, Reviews, Content Rating and Genres against the target variable, Installs, as we used the number of installs as the measure of success of an app. We now should create a frequency table for each of the explanatory variables against the number of installs to measure how successful the app is. To make this possible, will require a dictionary where the keys will be the each of the explanatory variables as discussed previously. Thus, we must first create a dictionary that has the number of installs as the key and the value is the Reviews, Content Rating and Genres variables respectively.</p>"
   ]
  },
  {
   "cell_type": "code",
   "execution_count": 60,
   "metadata": {
    "collapsed": false
   },
   "outputs": [
    {
     "name": "stdout",
     "output_type": "stream",
     "text": [
      "-----Average number of reviews per Android app installs milestone-----\n",
      "Installs: 0+ ||| Average Reviews: 0\n",
      "Installs: 1+ ||| Average Reviews: 0\n",
      "Installs: 1,000+ ||| Average Reviews: 25\n",
      "Installs: 1,000,000+ ||| Average Reviews: 32191\n",
      "Installs: 1,000,000,000+ ||| Average Reviews: 20011994\n",
      "Installs: 10+ ||| Average Reviews: 0\n",
      "Installs: 10,000+ ||| Average Reviews: 240\n",
      "Installs: 10,000,000+ ||| Average Reviews: 347985\n",
      "Installs: 100+ ||| Average Reviews: 4\n",
      "Installs: 100,000+ ||| Average Reviews: 2533\n",
      "Installs: 100,000,000+ ||| Average Reviews: 4055292\n",
      "Installs: 5+ ||| Average Reviews: 0\n",
      "Installs: 5,000+ ||| Average Reviews: 70\n",
      "Installs: 5,000,000+ ||| Average Reviews: 101360\n",
      "Installs: 50+ ||| Average Reviews: 2\n",
      "Installs: 50,000+ ||| Average Reviews: 745\n",
      "Installs: 50,000,000+ ||| Average Reviews: 1220515\n",
      "Installs: 500+ ||| Average Reviews: 9\n",
      "Installs: 500,000+ ||| Average Reviews: 8955\n",
      "Installs: 500,000,000+ ||| Average Reviews: 9852672\n",
      "--------------------------------------------------------------\n"
     ]
    }
   ],
   "source": [
    "# function to create table with respect to the installs variable\n",
    "# key_index is where the column that contains the installs variable is located\n",
    "# value_index contains the columns that contain the explanatory variable\n",
    "def installs_table(dataset, header, key_index, value_index):\n",
    "    freq = {}\n",
    "    for row in dataset:\n",
    "        key = row[key_index]\n",
    "        value = row[value_index]\n",
    "        if (key not in freq):\n",
    "            freq[key] = [value]\n",
    "        else:\n",
    "            freq[key].append(value)\n",
    "    return freq\n",
    "\n",
    "# Android dataset\n",
    "android_installs_reviews = installs_table(free_android_apps, android_header, 5, 3) \n",
    "android_installs_content = installs_table(free_android_apps, android_header, 5, 8)\n",
    "android_installs_genres = installs_table(free_android_apps, android_header, 5, 9)\n",
    "\n",
    "# display the average number of reviews for each installs milestone\n",
    "print(\"-----Average number of reviews per Android app installs milestone-----\")\n",
    "for key in sorted(android_installs_reviews.keys()):\n",
    "    numlist = [int(x) for x in android_installs_reviews[key]]\n",
    "    print(\"Installs:\", key, \"||| Average Reviews:\", int(sum(numlist)/len(numlist)))\n",
    "print(\"--------------------------------------------------------------\")"
   ]
  },
  {
   "cell_type": "markdown",
   "metadata": {
    "collapsed": true
   },
   "source": [
    "<b>Comment:</b> Here, we see the top 3 install milestones are 1,000,000,000+, 500,000,000+ and 100,000,000+ with 20011994, 9852672, 4055292 average number of reviews respectively. Also, it is clear there is a linear trend between the number of app installs and the average number of reviews which should be the norm.\n",
    "\n",
    "Now, let's investigate the trend between the content rating and the number of installs for each Android app:"
   ]
  },
  {
   "cell_type": "code",
   "execution_count": 61,
   "metadata": {
    "collapsed": false
   },
   "outputs": [
    {
     "name": "stdout",
     "output_type": "stream",
     "text": [
      "-----Frequency for each content rating per Android app installs milestone-----\n",
      "0+ Installs \n",
      " [['Everyone', 3], ['Teen', 1]] \n",
      "\n",
      "1+ Installs \n",
      " [['Everyone', 40], ['Mature 17+', 3], ['Teen', 3]] \n",
      "\n",
      "1,000+ Installs \n",
      " [['Everyone', 661], ['Teen', 57], ['Mature 17+', 21], ['Everyone 10+', 11]] \n",
      "\n",
      "1,000,000+ Installs \n",
      " [['Everyone', 1093], ['Teen', 174], ['Mature 17+', 67], ['Everyone 10+', 63], ['Adults only 18+', 1]] \n",
      "\n",
      "1,000,000,000+ Installs \n",
      " [['Everyone', 11], ['Teen', 8], ['Everyone 10+', 1]] \n",
      "\n",
      "10+ Installs \n",
      " [['Everyone', 267], ['Teen', 34], ['Mature 17+', 10], ['Everyone 10+', 4]] \n",
      "\n",
      "10,000+ Installs \n",
      " [['Everyone', 791], ['Teen', 70], ['Mature 17+', 34], ['Everyone 10+', 18]] \n",
      "\n",
      "10,000,000+ Installs \n",
      " [['Everyone', 690], ['Teen', 142], ['Mature 17+', 51], ['Everyone 10+', 49]] \n",
      "\n",
      "100+ Installs \n",
      " [['Everyone', 536], ['Teen', 58], ['Mature 17+', 16], ['Everyone 10+', 6]] \n",
      "\n",
      "100,000+ Installs \n",
      " [['Everyone', 843], ['Teen', 100], ['Mature 17+', 55], ['Everyone 10+', 33]] \n",
      "\n",
      "100,000,000+ Installs \n",
      " [['Everyone', 138], ['Teen', 29], ['Everyone 10+', 12], ['Mature 17+', 9]] \n",
      "\n",
      "5+ Installs \n",
      " [['Everyone', 64], ['Teen', 4], ['Mature 17+', 1], ['Everyone 10+', 1]] \n",
      "\n",
      "5,000+ Installs \n",
      " [['Everyone', 366], ['Teen', 23], ['Mature 17+', 9], ['Everyone 10+', 5]] \n",
      "\n",
      "5,000,000+ Installs \n",
      " [['Everyone', 458], ['Teen', 99], ['Everyone 10+', 26], ['Mature 17+', 25]] \n",
      "\n",
      "50+ Installs \n",
      " [['Everyone', 148], ['Teen', 16], ['Mature 17+', 3], ['Everyone 10+', 3]] \n",
      "\n",
      "50,000+ Installs \n",
      " [['Everyone', 352], ['Teen', 46], ['Mature 17+', 15], ['Everyone 10+', 15], ['Unrated', 1]] \n",
      "\n",
      "50,000,000+ Installs \n",
      " [['Everyone', 146], ['Teen', 39], ['Everyone 10+', 12], ['Mature 17+', 6]] \n",
      "\n",
      "500+ Installs \n",
      " [['Everyone', 254], ['Teen', 19], ['Mature 17+', 13], ['Unrated', 1], ['Everyone 10+', 1]] \n",
      "\n",
      "500,000+ Installs \n",
      " [['Everyone', 368], ['Teen', 59], ['Mature 17+', 36], ['Everyone 10+', 29], ['Adults only 18+', 2]] \n",
      "\n",
      "500,000,000+ Installs \n",
      " [['Everyone', 19], ['Teen', 3], ['Mature 17+', 1], ['Everyone 10+', 1]] \n",
      "\n",
      "------------------------------------------------------------------------------\n",
      "\n"
     ]
    }
   ],
   "source": [
    "# function to create a frequency dictionary\n",
    "# for each frequency make a pair such as [value, frequency of value]\n",
    "# i.e. ['Everyone', 27] means that the term 'Everyone' has occurred 27 times\n",
    "def freq_table(dataset):\n",
    "    freq = {}\n",
    "    for item in dataset:\n",
    "        if (item in freq):\n",
    "            freq[item] += 1\n",
    "        else:\n",
    "            freq[item] = 1\n",
    "    \n",
    "    # convert freq dict into a sorted list\n",
    "    total_list = []\n",
    "    for key in freq:\n",
    "        key_freq = [key, freq[key]]\n",
    "        total_list.append(key_freq)\n",
    "    total_list.sort(key = lambda x: x[1], reverse = True)\n",
    "    return total_list\n",
    "\n",
    "print(\"-----Frequency for each content rating per Android app installs milestone-----\")\n",
    "# display frequency for content rating for each install milestone\n",
    "for key in sorted(android_installs_content.keys()):\n",
    "    key_list = android_installs_content[key]\n",
    "    freq_list = freq_table(key_list)\n",
    "    print(key, 'Installs', '\\n', freq_list, '\\n')\n",
    "print(\"------------------------------------------------------------------------------\\n\")"
   ]
  },
  {
   "cell_type": "markdown",
   "metadata": {},
   "source": [
    "<b>Comment:</b> So, it is clear that for every installs milestone for Android apps, the content rating that is very prominent that we can see above is the 'Everyone' rating. This implies that the most successful apps and the least popular ones all have one thing in common is that all of them have mobile apps that cater to all demographics ('Everyone' rating).\n",
    "\n",
    "Lastly, lets observe the trend between the genre of the app and the number of installs, but this time lets look just at the top 3 genres for each installs milestone for simplicity:"
   ]
  },
  {
   "cell_type": "code",
   "execution_count": 62,
   "metadata": {
    "collapsed": false
   },
   "outputs": [
    {
     "name": "stdout",
     "output_type": "stream",
     "text": [
      "-----Frequency for each genre per Android app installs milestone-----\n",
      "0+ Installs \n",
      " [['Business', 1], ['Social', 1], ['Art & Design', 1]] \n",
      "\n",
      "1+ Installs \n",
      " [['Business', 5], ['Tools', 4], ['Medical', 4]] \n",
      "\n",
      "1,000+ Installs \n",
      " [['Education', 82], ['Tools', 69], ['Entertainment', 64]] \n",
      "\n",
      "1,000,000+ Installs \n",
      " [['Tools', 100], ['Entertainment', 71], ['Finance', 57]] \n",
      "\n",
      "1,000,000,000+ Installs \n",
      " [['Communication', 6], ['Social', 3], ['Video Players & Editors', 2]] \n",
      "\n",
      "10+ Installs \n",
      " [['Business', 40], ['Medical', 25], ['Productivity', 20]] \n",
      "\n",
      "10,000+ Installs \n",
      " [['Tools', 84], ['Education', 78], ['Finance', 67]] \n",
      "\n",
      "10,000,000+ Installs \n",
      " [['Tools', 82], ['Action', 64], ['Photography', 56]] \n",
      "\n",
      "100+ Installs \n",
      " [['Business', 74], ['Medical', 45], ['Entertainment', 44]] \n",
      "\n",
      "100,000+ Installs \n",
      " [['Tools', 95], ['Entertainment', 78], ['Education', 56]] \n",
      "\n",
      "100,000,000+ Installs \n",
      " [['Tools', 22], ['Arcade', 19], ['Photography', 18]] \n",
      "\n",
      "5+ Installs \n",
      " [['Business', 17], ['Medical', 8], ['Sports', 8]] \n",
      "\n",
      "5,000+ Installs \n",
      " [['Education', 45], ['Tools', 43], ['Entertainment', 28]] \n",
      "\n",
      "5,000,000+ Installs \n",
      " [['Tools', 39], ['Sports', 33], ['Action', 33]] \n",
      "\n",
      "50+ Installs \n",
      " [['Business', 24], ['Medical', 21], ['Education', 12]] \n",
      "\n",
      "50,000+ Installs \n",
      " [['Tools', 48], ['Education', 32], ['Lifestyle', 27]] \n",
      "\n",
      "50,000,000+ Installs \n",
      " [['Tools', 23], ['Photography', 22], ['Action', 16]] \n",
      "\n",
      "500+ Installs \n",
      " [['Tools', 31], ['Entertainment', 27], ['Education', 25]] \n",
      "\n",
      "500,000+ Installs \n",
      " [['Health & Fitness', 28], ['Entertainment', 27], ['Tools', 26]] \n",
      "\n",
      "500,000,000+ Installs \n",
      " [['Communication', 5], ['Tools', 5], ['Productivity', 4]] \n",
      "\n",
      "------------------------------------------------------------------------------\n",
      "\n"
     ]
    }
   ],
   "source": [
    "print(\"-----Frequency for each genre per Android app installs milestone-----\")\n",
    "# display frequency for content rating for each install milestone\n",
    "for key in sorted(android_installs_genres.keys()):\n",
    "    key_list = android_installs_genres[key]\n",
    "    freq_list = freq_table(key_list)\n",
    "    print(key, 'Installs', '\\n', freq_list[0:3], '\\n')\n",
    "print(\"------------------------------------------------------------------------------\\n\")"
   ]
  },
  {
   "cell_type": "markdown",
   "metadata": {},
   "source": [
    "<b>Comment:</b> As we see above, there isn't as clear of a trend as we saw in the previous two, but we can see two genres that outperform the rest and that is the 'Tools' and 'Business' genres with 'Tools' over taking most of the high installs milestones.\n",
    "\n",
    "Now, we are half way through the analysis and we still have to take a close look at the App Store dataset. Our first move will be to take a quick look back at the columns of the dataset:"
   ]
  },
  {
   "cell_type": "code",
   "execution_count": 63,
   "metadata": {
    "collapsed": false
   },
   "outputs": [
    {
     "name": "stdout",
     "output_type": "stream",
     "text": [
      "['id', 'track_name', 'size_bytes', 'currency', 'price', 'rating_count_tot', 'rating_count_ver', 'user_rating', 'user_rating_ver', 'ver', 'cont_rating', 'prime_genre', 'sup_devices.num', 'ipadSc_urls.num', 'lang.num', 'vpp_lic']\n"
     ]
    }
   ],
   "source": [
    "print(ios_header)"
   ]
  },
  {
   "cell_type": "markdown",
   "metadata": {},
   "source": [
    "Here, we see the absence of a Installs column that counts the number of ios installations for each app and so we will have to resort to another metric to measure the success of an app. It seems that we can use the 'user_rating' as the defining factor on what constitutes a successful app, as the higher the rating then the better the app. \n",
    "\n",
    "Again, we will compare this against the genre of each app, which is denoted by the 'prime_genre' column and content rating of the apps, as denoted by the 'cont_rating' column. This will allow us to have similar analysis to the Android dataset as we can see the influence on how the content rating and the genre has on a success of a app."
   ]
  },
  {
   "cell_type": "code",
   "execution_count": 64,
   "metadata": {
    "collapsed": false
   },
   "outputs": [
    {
     "name": "stdout",
     "output_type": "stream",
     "text": [
      "-----Frequency for each content rating per IOS app with respect to the user rating-----\n",
      "0.0 User Rating \n",
      " [['4+', 329], ['17+', 152], ['12+', 116]] \n",
      "\n",
      "1.0 User Rating \n",
      " [['4+', 13], ['17+', 4], ['9+', 2]] \n",
      "\n",
      "1.5 User Rating \n",
      " [['4+', 18], ['12+', 4], ['17+', 3]] \n",
      "\n",
      "2.0 User Rating \n",
      " [['4+', 36], ['12+', 12], ['17+', 8]] \n",
      "\n",
      "2.5 User Rating \n",
      " [['4+', 73], ['12+', 20], ['17+', 19]] \n",
      "\n",
      "3.0 User Rating \n",
      " [['4+', 135], ['12+', 38], ['17+', 25]] \n",
      "\n",
      "3.5 User Rating \n",
      " [['4+', 247], ['12+', 54], ['17+', 45]] \n",
      "\n",
      "4.0 User Rating \n",
      " [['4+', 545], ['12+', 139], ['9+', 94]] \n",
      "\n",
      "4.5 User Rating \n",
      " [['4+', 918], ['12+', 274], ['9+', 180]] \n",
      "\n",
      "5.0 User Rating \n",
      " [['4+', 150], ['12+', 46], ['9+', 32]] \n",
      "\n",
      "-------------------------------------------------------------------------------------\n",
      "\n"
     ]
    }
   ],
   "source": [
    "# IOS dataset\n",
    "# we can reuse the installs_table() function defined earlier but we are using the user rating instead\n",
    "ios_installs_content = installs_table(free_ios_apps, ios_header, 7, 10) \n",
    "ios_installs_genre = installs_table(free_ios_apps, ios_header, 7, 11)\n",
    "\n",
    "print(\"-----Frequency for each content rating per IOS app with respect to the user rating-----\")\n",
    "# display frequency for each content rating for each install milestone\n",
    "for key in sorted(ios_installs_content.keys()):\n",
    "    key_list = ios_installs_content[key]\n",
    "    freq_list = freq_table(key_list)\n",
    "    print(key, 'User Rating', '\\n', freq_list[0:3], '\\n')\n",
    "print(\"-------------------------------------------------------------------------------------\\n\")"
   ]
  },
  {
   "cell_type": "markdown",
   "metadata": {},
   "source": [
    "<b>Comment:</b> Similarly, just like the Android apps, we can see that the most dominant content rating for all user ratings is the '4+', which is basicall the 'Everyone' rating in the Google Play store. Also, the highest user rating '5.0', we see that the top 3 content ratings are '4+', '12+' and '9+' respetively which implies the higher rating such as '17+' apps are not as successful. This is also evident in the Android dataset as the apps the rack up over 100,000,000+ Installs where the 'Mature 17+' are also the least popular rating out of the successful Android apps."
   ]
  },
  {
   "cell_type": "code",
   "execution_count": 65,
   "metadata": {
    "collapsed": false
   },
   "outputs": [
    {
     "name": "stdout",
     "output_type": "stream",
     "text": [
      "-----Frequency for each genre per IOS app with respect to the user rating-----\n",
      "0.0 User Rating \n",
      " [['Games', 364], ['Entertainment', 50], ['Book', 41]] \n",
      "\n",
      "1.0 User Rating \n",
      " [['Games', 10], ['Sports', 3], ['Lifestyle', 2]] \n",
      "\n",
      "1.5 User Rating \n",
      " [['Finance', 6], ['Games', 5], ['Lifestyle', 4]] \n",
      "\n",
      "2.0 User Rating \n",
      " [['Entertainment', 15], ['Games', 11], ['Sports', 7]] \n",
      "\n",
      "2.5 User Rating \n",
      " [['Games', 28], ['Entertainment', 24], ['Sports', 11]] \n",
      "\n",
      "3.0 User Rating \n",
      " [['Games', 67], ['Entertainment', 45], ['Social Networking', 15]] \n",
      "\n",
      "3.5 User Rating \n",
      " [['Games', 146], ['Entertainment', 45], ['Education', 25]] \n",
      "\n",
      "4.0 User Rating \n",
      " [['Games', 496], ['Entertainment', 65], ['Education', 32]] \n",
      "\n",
      "4.5 User Rating \n",
      " [['Games', 978], ['Entertainment', 75], ['Photo & Video', 74]] \n",
      "\n",
      "5.0 User Rating \n",
      " [['Games', 150], ['Photo & Video', 21], ['Entertainment', 14]] \n",
      "\n",
      "-------------------------------------------------------------------------------------\n",
      "\n"
     ]
    }
   ],
   "source": [
    "print(\"-----Frequency for each genre per IOS app with respect to the user rating-----\")\n",
    "# display frequency for each genre for each install milestone\n",
    "for key in sorted(ios_installs_genre.keys()):\n",
    "    key_list = ios_installs_genre[key]\n",
    "    freq_list = freq_table(key_list)\n",
    "    print(key, 'User Rating', '\\n', freq_list[0:3], '\\n')\n",
    "print(\"-------------------------------------------------------------------------------------\\n\")"
   ]
  },
  {
   "cell_type": "markdown",
   "metadata": {},
   "source": [
    "<b>Comment:</b> On the contrary, unlike the Android apps where the most popular apps based on the number of installs were dominated by the 'Business' and 'Tools' genres, it is evident that successful IOS apps are mostly in the 'Games' followed by the 'Entertainment' genres.\n",
    "\n",
    "<h2>Conclusion of Analysis</h2>\n",
    "<p>From our Android apps dataset, we saw that there was clear linearity between the number of reviews left on the app and the number of installs. Despite knowing this implicity we showed that this was infact the case based on our analysis. Also, the most installed/downloaded Android apps were found out to have content rating for every demographic and these apps mostly fell under the 'Business' or 'Tools' genres. We may assume that most of these installs maybe be from the older generations due to these genres are mostly what adults are more likely to download and install.</p>\n",
    "\n",
    "<p>For our IOS dataset, we stated that the measurement of success was based on the user rating for each app in the App Store. By using this metric we compared this against the content rating and genre to see if there is any trends/relationships present. From here, we found that the content rating for all successful IOS apps was '4+' which also basically caters for all demographics except maybe for all under 4 years old, but this maybe just that you cannot select that content rating when you upload an app to the App Store. Also, the genres that these successful apps reside in are mostly under the 'Games' and 'Entertainment' categories which is the exact opposite of the 'Business' and 'Tools' successful genres seen in the Google Play store.</p>\n",
    "\n",
    "<h2>Final Takeaway</h2>\n",
    "<p>Thus, we venture back to the original motivation for this analysis which was we wanted to find the driving force behind the success of these free mobile apps in both app stores and how we can use these ideas for our own apps. So, we can conclude that in order to be successful in both app markets is to cater for the wider audience, such as do not create apps that are limited to a certain age range in order to attract more users. For the Google Play store specifically, we should try to make apps in the 'Business' and 'Tools' category as these are the apps that attract the most downloads and installs. And for the App store, we should try to strive for apps that are either under 'Games' or 'Entertainment' apps if we want to produce a more successful app.</p>"
   ]
  }
 ],
 "metadata": {
  "kernelspec": {
   "display_name": "Python 3",
   "language": "python",
   "name": "python3"
  },
  "language_info": {
   "codemirror_mode": {
    "name": "ipython",
    "version": 3
   },
   "file_extension": ".py",
   "mimetype": "text/x-python",
   "name": "python",
   "nbconvert_exporter": "python",
   "pygments_lexer": "ipython3",
   "version": "3.4.3"
  }
 },
 "nbformat": 4,
 "nbformat_minor": 2
}
