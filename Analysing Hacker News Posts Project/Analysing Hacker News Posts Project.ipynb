{
 "cells": [
  {
   "cell_type": "markdown",
   "metadata": {
    "collapsed": true
   },
   "source": [
    "<h1><u>Data Exploration and Analysis on Hacker News Posts</u></h1>\n",
    "\n",
    "<h2>Introduction</h2>\n",
    "<p>Today, we explore the dataset that contains posts from the Hacker News website from the last 12 months up to the date of September 26 2016 and the scrapped data can be found originally <a href = \"https://www.kaggle.com/hacker-news/hacker-news-posts\">here</a>. The Hacker News website is a social media site that specifically focuses on computer science/entrepreneurship that has content which generally attracts the curiosity of likeminded users. Futhermore, we are interested in posts that has title names that include 'Ask HN' or 'Show HN' which implies that the user either wants to ask the Hacker News (HN) community a question or show the Hacker News community their project/s or findings.</p>\n",
    "\n",
    "<h2>Objective</h2>\n",
    "<p>Our goals today is to find out which posts with those titles ('Ask HN' or 'Show HN') receive more comments on average. And also does a post at a certain hour gain more post then another posted at a different hour of the day?</p>\n",
    "\n",
    "<h2>Importing the data</h2>\n",
    "<p>First things first, let's import the dataset and inspect the first five rows of the data to get an idea of what we are dealing with:</p>"
   ]
  },
  {
   "cell_type": "code",
   "execution_count": 34,
   "metadata": {
    "collapsed": false
   },
   "outputs": [
    {
     "name": "stdout",
     "output_type": "stream",
     "text": [
      "----------Columns of the Hacker News dataset----------\n",
      "['id', 'title', 'url', 'num_points', 'num_comments', 'author', 'created_at']\n",
      "\n",
      "----------First 5 rows of the Hacker News dataset----------\n",
      "['12224879', 'Interactive Dynamic Video', 'http://www.interactivedynamicvideo.com/', '386', '52', 'ne0phyte', '8/4/2016 11:52']\n",
      "['10975351', 'How to Use Open Source and Shut the Fuck Up at the Same Time', 'http://hueniverse.com/2016/01/26/how-to-use-open-source-and-shut-the-fuck-up-at-the-same-time/', '39', '10', 'josep2', '1/26/2016 19:30']\n",
      "['11964716', \"Florida DJs May Face Felony for April Fools' Water Joke\", 'http://www.thewire.com/entertainment/2013/04/florida-djs-april-fools-water-joke/63798/', '2', '1', 'vezycash', '6/23/2016 22:20']\n",
      "['11919867', 'Technology ventures: From Idea to Enterprise', 'https://www.amazon.com/Technology-Ventures-Enterprise-Thomas-Byers/dp/0073523429', '3', '1', 'hswarna', '6/17/2016 0:01']\n",
      "['10301696', 'Note by Note: The Making of Steinway L1037 (2007)', 'http://www.nytimes.com/2007/11/07/movies/07stein.html?_r=0', '8', '2', 'walterbell', '9/30/2015 4:12']\n",
      "['10482257', 'Title II kills investment? Comcast and other ISPs are now spending more', 'http://arstechnica.com/business/2015/10/comcast-and-other-isps-boost-network-investment-despite-net-neutrality/', '53', '22', 'Deinos', '10/31/2015 9:48']\n"
     ]
    }
   ],
   "source": [
    "# import hacker_news.csv file into python lists of lists\n",
    "from csv import reader\n",
    "opened_file = open('hacker_news.csv')\n",
    "read_file = reader(opened_file)\n",
    "hn = list(read_file)\n",
    "hn_header = hn[0]\n",
    "hn = hn[1:]\n",
    "\n",
    "# header (columns of the dataset)\n",
    "print(\"----------Columns of the Hacker News dataset----------\")\n",
    "print(hn_header)\n",
    "\n",
    "# print first 5 rows\n",
    "print(\"\\n----------First 5 rows of the Hacker News dataset----------\")\n",
    "for row in hn[0:6]:\n",
    "    print(row)"
   ]
  },
  {
   "cell_type": "markdown",
   "metadata": {},
   "source": [
    "<b>Comment:</b> Here, we notice that the dataset has 7 columns which means each row contains 7 variables and we can go to the author of the dataset to get a description of what each dataset represents.\n",
    "\n",
    "<b>Description of the columns:</b>\n",
    "<ul>\n",
    "<li><b>id</b>: The unique identifier from Hacker News for the post</li>\n",
    "<li><b>title</b>: The title of the post</li>\n",
    "<li><b>url</b>: The URL that the posts links to, if it the post has a URL</li>\n",
    "<li><b>num_points</b>: The number of points the post acquired, calculated as the total number of upvotes minus the total number of downvotes</li>\n",
    "<li><b>num_comments</b>: The number of comments that were made on the post</li>\n",
    "<li><b>author</b>: The username of the person who submitted the post</li>\n",
    "<li><b>created_at</b>: The date and time at which the post was submitted</li>\n",
    "</ul>\n",
    "\n",
    "Now, that we have a dataset loaded up, we can now decide to filter out the posts by finding the titles that had 'Ask HN' or 'Show HN'."
   ]
  },
  {
   "cell_type": "code",
   "execution_count": 35,
   "metadata": {
    "collapsed": false
   },
   "outputs": [
    {
     "name": "stdout",
     "output_type": "stream",
     "text": [
      "Number of 'Ask HN' posts: 1744\n",
      "Number of 'Show HN' posts: 1162\n",
      "Number of other posts: 17194\n"
     ]
    }
   ],
   "source": [
    "# create three lists to store the posts\n",
    "# ask_posts: stores the 'Ask HN' posts\n",
    "# show_posts: stores the 'Show HN' posts\n",
    "# other_posts: stores the other posts\n",
    "ask_posts, show_posts, other_posts = [], [], []\n",
    "\n",
    "# iterate through the dataset to and use the \n",
    "# title (index = 1) name to filter into each of the 3 lists\n",
    "for row in hn:\n",
    "    title = row[1]\n",
    "    if (title.lower().startswith(\"ask hn\")):\n",
    "        ask_posts.append(row)\n",
    "    elif (title.lower().startswith(\"show hn\")):\n",
    "        show_posts.append(row)\n",
    "    else:\n",
    "        other_posts.append(row)\n",
    "\n",
    "# print out the number of posts in each lists\n",
    "print(\"Number of 'Ask HN' posts:\", len(ask_posts))\n",
    "print(\"Number of 'Show HN' posts:\", len(show_posts))\n",
    "print(\"Number of other posts:\", len(other_posts))  "
   ]
  },
  {
   "cell_type": "markdown",
   "metadata": {},
   "source": [
    "<b>Comment:</b> So, it looks like there is 1744 posts in the dataset that involves the poster asking a question to the Hacker News Community, 1162 posts regarding the poster showcasing a project or finding and 17194 posts are other posts that don't fit in either category.\n",
    "\n",
    "Now, we have found our Ask and Show posts, it is time to count the numer of comments for each of the lists of posts as one of the goals was to find out which category of posts receive more comments on average."
   ]
  },
  {
   "cell_type": "code",
   "execution_count": 36,
   "metadata": {
    "collapsed": false
   },
   "outputs": [
    {
     "name": "stdout",
     "output_type": "stream",
     "text": [
      "The average number of comments in ask posts: 14.038417431192661\n",
      "The average number of comments in show posts: 10.31669535283993\n"
     ]
    }
   ],
   "source": [
    "# get total number of comments in ask posts\n",
    "total_ask_comments = 0\n",
    "\n",
    "# find the number of comments in ask posts\n",
    "for post in ask_posts:\n",
    "    n_comments = int(post[4])\n",
    "    total_ask_comments += n_comments\n",
    "avg_ask_comments = total_ask_comments/len(ask_posts)\n",
    "\n",
    "# display the average number of comments in ask posts\n",
    "print(\"The average number of comments in ask posts:\", avg_ask_comments)\n",
    "\n",
    "# get total number of comments in show posts\n",
    "total_show_comments = 0\n",
    "\n",
    "# find the number of comments in show posts\n",
    "for post in show_posts:\n",
    "    n_comments = int(post[4])\n",
    "    total_show_comments += n_comments\n",
    "avg_show_comments = total_show_comments/len(show_posts)\n",
    "\n",
    "# display the average number of comments in show posts\n",
    "print(\"The average number of comments in show posts:\", avg_show_comments)"
   ]
  },
  {
   "cell_type": "markdown",
   "metadata": {},
   "source": [
    "<b>Comment:</b> Here, we can see that the average number of comments is more present in any posts that is an 'Ask HN' post. This would make sense as generally asking questions should generally invoke more of a response as people are inclined to provide an answer. And now we have shown that this phenomenon is true in these post.\n",
    "\n",
    "Since, we deduce that posts that start with the title 'Ask HN' generally receive more comments on average. We can now focus on the second part of our objective, which is to figure out if the post creation time influences the average amount of comments received on the post. Because the 'Ask HN' post receive more comments, we will use those posts as the focus of this next objective."
   ]
  },
  {
   "cell_type": "code",
   "execution_count": 51,
   "metadata": {
    "collapsed": false
   },
   "outputs": [
    {
     "name": "stdout",
     "output_type": "stream",
     "text": [
      "Hour: 0  -> Average number of comments: 8.13\n",
      "Hour: 1  -> Average number of comments: 11.38\n",
      "Hour: 2  -> Average number of comments: 23.81\n",
      "Hour: 3  -> Average number of comments: 7.8\n",
      "Hour: 4  -> Average number of comments: 7.17\n",
      "Hour: 5  -> Average number of comments: 10.09\n",
      "Hour: 6  -> Average number of comments: 9.02\n",
      "Hour: 7  -> Average number of comments: 7.85\n",
      "Hour: 8  -> Average number of comments: 10.25\n",
      "Hour: 9  -> Average number of comments: 5.58\n",
      "Hour: 10  -> Average number of comments: 13.44\n",
      "Hour: 11  -> Average number of comments: 11.05\n",
      "Hour: 12  -> Average number of comments: 9.41\n",
      "Hour: 13  -> Average number of comments: 14.74\n",
      "Hour: 14  -> Average number of comments: 13.23\n",
      "Hour: 15  -> Average number of comments: 38.59\n",
      "Hour: 16  -> Average number of comments: 16.8\n",
      "Hour: 17  -> Average number of comments: 11.46\n",
      "Hour: 18  -> Average number of comments: 13.2\n",
      "Hour: 19  -> Average number of comments: 10.8\n",
      "Hour: 20  -> Average number of comments: 21.52\n",
      "Hour: 21  -> Average number of comments: 16.01\n",
      "Hour: 22  -> Average number of comments: 6.75\n",
      "Hour: 23  -> Average number of comments: 7.99\n"
     ]
    }
   ],
   "source": [
    "# import modules\n",
    "import datetime as dt\n",
    "\n",
    "# for each post fectch the post creation time and the number of comments\n",
    "result_list = []\n",
    "for post in ask_posts:\n",
    "    post_creation_time = post[6]\n",
    "    post_num_comments = int(post[4])\n",
    "    result = [post_creation_time, post_num_comments]\n",
    "    result_list.append(result)\n",
    "\n",
    "# find the frequency of comments received at a certain hour\n",
    "# get the hour the post was created and get the number of comments received\n",
    "# this will tells us how many comments are received if the post is created \n",
    "# that hour then we can get an average of comments for the hour \n",
    "# by dividing the amount of posts made in that hour\n",
    "counts_by_hour, comments_by_hour = {}, {}\n",
    "for result in result_list:\n",
    "    creation_date = result[0]\n",
    "    creation_date = dt.datetime.strptime(creation_date, \"%m/%d/%Y %H:%M\")\n",
    "    hour = creation_date.hour\n",
    "    if (hour not in counts_by_hour):\n",
    "        counts_by_hour[hour] = 1\n",
    "        comments_by_hour[hour] = result[1]\n",
    "    else:\n",
    "        counts_by_hour[hour] += 1\n",
    "        comments_by_hour[hour] += result[1]\n",
    "\n",
    "# get the average number of comments for the hour of which the post is created\n",
    "average_by_hour = []\n",
    "for hour in counts_by_hour:\n",
    "    average_comments = comments_by_hour[hour]/counts_by_hour[hour]\n",
    "    average_by_hour.append([hour, average_comments])\n",
    "    \n",
    "# display the results of average number of comments by hour\n",
    "for item in average_by_hour:\n",
    "    hour = item[0]\n",
    "    average = item[1]\n",
    "    print(\"Hour:\", hour, \" -> Average number of comments:\", round(average, 2))"
   ]
  },
  {
   "cell_type": "markdown",
   "metadata": {},
   "source": [
    "<b>Comment:</b> So, we can see that the results are hard to read for each hour and the average number of comments. Thus, before we start to infer something let's display this table of results alittle neater."
   ]
  },
  {
   "cell_type": "code",
   "execution_count": 69,
   "metadata": {
    "collapsed": false
   },
   "outputs": [
    {
     "name": "stdout",
     "output_type": "stream",
     "text": [
      "Top 3 hours for 'Ask HN' posts to receive the most comments:\n",
      "15:00: 38.59 average comments per post\n",
      "02:00: 23.81 average comments per post\n",
      "20:00: 21.52 average comments per post\n"
     ]
    }
   ],
   "source": [
    "# sort the results based on the average number of comments in descending order\n",
    "sorted_results = sorted(average_by_hour, key = lambda x: x[1], reverse = True)\n",
    "\n",
    "# display the top 3 results\n",
    "print(\"Top 3 hours for 'Ask HN' posts to receive the most comments:\")\n",
    "for item in sorted_results[0:3]:\n",
    "    hour = item[0]\n",
    "    hour = dt.datetime.strptime(str(hour), \"%H\")\n",
    "    hour = dt.datetime.strftime(hour, \"%H:%M\")\n",
    "    result = \"{hour}: {avg_comments:0.2f} average comments per post\" \n",
    "    result = result.format(hour = hour, avg_comments = item[1])\n",
    "    print(result)"
   ]
  },
  {
   "cell_type": "markdown",
   "metadata": {},
   "source": [
    "<b>Comment:</b> And the results are in! We see that 3 PM (Eastern Time in the US) is the most optimal time to write up a 'Ask HN' post as it gets on average 38.59 comments and is followed by 2 AM and finally 8 PM. So, if we wanted to get our question answered then these would be the optimal times to post some questions.\n",
    "\n",
    "<h2>Conclusion Of Analysis</h2>\n",
    "<p>Thus, we completed our objectives today, which were to find out if which of the 'Ask HN' or 'Show HN' posts gets more comments on average and then we found out what is the most optimal hour to put up a post such that it receives the most comments (on average). From this analysis, we concluded that the 'Ask HN' posts is where the most comments on average are found and the most optimal time to post these posts to get the most average number of comments is 3 PM Eastern Time in the USA.</p>"
   ]
  }
 ],
 "metadata": {
  "kernelspec": {
   "display_name": "Python 3",
   "language": "python",
   "name": "python3"
  },
  "language_info": {
   "codemirror_mode": {
    "name": "ipython",
    "version": 3
   },
   "file_extension": ".py",
   "mimetype": "text/x-python",
   "name": "python",
   "nbconvert_exporter": "python",
   "pygments_lexer": "ipython3",
   "version": "3.4.3"
  }
 },
 "nbformat": 4,
 "nbformat_minor": 2
}
